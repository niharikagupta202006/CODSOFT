{
  "nbformat": 4,
  "nbformat_minor": 0,
  "metadata": {
    "colab": {
      "provenance": [],
      "authorship_tag": "ABX9TyOMhVJnWWUcVZAYJTOrzzca",
      "include_colab_link": true
    },
    "kernelspec": {
      "name": "python3",
      "display_name": "Python 3"
    },
    "language_info": {
      "name": "python"
    }
  },
  "cells": [
    {
      "cell_type": "markdown",
      "metadata": {
        "id": "view-in-github",
        "colab_type": "text"
      },
      "source": [
        "<a href=\"https://colab.research.google.com/github/niharikagupta202006/CODSOFT/blob/main/task3_passowrdgenerator.ipynb\" target=\"_parent\"><img src=\"https://colab.research.google.com/assets/colab-badge.svg\" alt=\"Open In Colab\"/></a>"
      ]
    },
    {
      "cell_type": "code",
      "execution_count": 2,
      "metadata": {
        "colab": {
          "base_uri": "https://localhost:8080/"
        },
        "id": "d1ZnYfU5y62h",
        "outputId": "7bb7f7fa-4600-4453-8f02-1df8d4d7b663"
      },
      "outputs": [
        {
          "output_type": "stream",
          "name": "stdout",
          "text": [
            "enter the length of the password:9\n",
            "Generated password: dkryFMT07\n"
          ]
        }
      ],
      "source": [
        "letters = \"abcdefghijklmnopqrstuvwxyzABCDEFGHIJKLMNOPQRSTUVWXYZ\"\n",
        "numbers = \"0123456789\"\n",
        "symbols = \"!@#$%^&*\"\n",
        "\n",
        "chars = letters + numbers + symbols\n",
        "length = int(input(\"enter the length of the password:\"))\n",
        "\n",
        "password = \"\"\n",
        "for i in range(length):\n",
        "    index = (i * 7 + 3) % len(chars)  #formula to make the password random\n",
        "    password += chars[index]\n",
        "\n",
        "print(\"Generated password:\", password)"
      ]
    }
  ]
}