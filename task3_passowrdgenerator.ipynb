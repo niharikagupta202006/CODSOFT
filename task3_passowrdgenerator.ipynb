{
  "nbformat": 4,
  "nbformat_minor": 0,
  "metadata": {
    "colab": {
      "provenance": [],
      "authorship_tag": "ABX9TyOMhVJnWWUcVZAYJTOrzzca",
      "include_colab_link": true
    },
    "kernelspec": {
      "name": "python3",
      "display_name": "Python 3"
    },
    "language_info": {
      "name": "python"
    }
  },
  "cells": [
    {
      "cell_type": "markdown",
      "metadata": {
        "id": "view-in-github",
        "colab_type": "text"
      },
      "source": [
        "<a href=\"https://colab.research.google.com/github/niharikagupta202006/CODSOFT/blob/main/task3_passowrdgenerator.ipynb\" target=\"_parent\"><img src=\"https://colab.research.google.com/assets/colab-badge.svg\" alt=\"Open In Colab\"/></a>"
      ]
    },
    {
      "cell_type": "code",
      "execution_count": null,
      "metadata": {
        "id": "d1ZnYfU5y62h"
      },
      "outputs": [],
      "source": [
        "letters = \"abcdefghijklmnopqrstuvwxyzABCDEFGHIJKLMNOPQRSTUVWXYZ\"\n",
        "numbers = \"0123456789\"\n",
        "symbols = \"!@#$%^&*\"\n",
        "\n",
        "chars = letters + numbers + symbols\n",
        "length = int(input(\"enter the length of the password:\"))\n",
        "\n",
        "password = \"\"\n",
        "for i in range(length):\n",
        "    index = (i * 7 + 3) % len(chars)  #formula to make the password random\n",
        "    password += chars[index]\n",
        "\n",
        "print(\"Generated password:\", password)"
      ]
    }
  ]
}