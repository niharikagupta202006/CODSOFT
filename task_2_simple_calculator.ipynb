{
  "nbformat": 4,
  "nbformat_minor": 0,
  "metadata": {
    "colab": {
      "provenance": []
    },
    "kernelspec": {
      "name": "python3",
      "display_name": "Python 3"
    },
    "language_info": {
      "name": "python"
    }
  },
  "cells": [
    {
      "cell_type": "code",
      "execution_count": 6,
      "metadata": {
        "colab": {
          "base_uri": "https://localhost:8080/"
        },
        "id": "wTdrMf02YXsW",
        "outputId": "cb23c09e-2e53-442a-df4a-1d6bd7b3bcc6"
      },
      "outputs": [
        {
          "output_type": "stream",
          "name": "stdout",
          "text": [
            "----simple calculator----\n",
            "CHOOSE OPERATION TO PERFORM:\n",
            "addition\n",
            "subtraction\n",
            "multiplication\n",
            "division\n",
            "enter your choicedivision\n",
            "enter two numbers\n",
            "5\n",
            "8\n",
            "result= 0.625\n"
          ]
        }
      ],
      "source": [
        "print(\"----simple calculator----\")\n",
        "print(\"CHOOSE OPERATION TO PERFORM:\")\n",
        "print(\"addition\")\n",
        "print(\"subtraction\")\n",
        "print(\"multiplication\")\n",
        "print(\"division\")\n",
        "choice=input(\"enter your choice\")\n",
        "if choice in ('addition','subtraction','multiplication','division'):\n",
        "  print(\"enter two numbers\")\n",
        "  x=int(input())\n",
        "  y=int(input())\n",
        "  if choice=='addition':\n",
        "    res=x+y\n",
        "    print(\"result=\",res)\n",
        "  elif choice=='subtraction':\n",
        "    res=x-y\n",
        "    print(\"result=\",res)\n",
        "  elif choice=='multiplication':\n",
        "    res=x*y\n",
        "    print(\"result=\",res)\n",
        "  elif choice=='division':\n",
        "    res=x/y\n",
        "    print(\"result=\",res)\n",
        "  else:\n",
        "    print(\"invalid input\")\n",
        "\n"
      ]
    }
  ]
}